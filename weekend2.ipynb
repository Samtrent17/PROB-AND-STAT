{
 "cells": [
  {
   "cell_type": "code",
   "execution_count": 1,
   "metadata": {},
   "outputs": [],
   "source": [
    "import numpy as np\n",
    "import pandas as pd"
   ]
  },
  {
   "cell_type": "code",
   "execution_count": 2,
   "metadata": {},
   "outputs": [],
   "source": [
    "data = [5,8,12,15,18,22,25,28,30]"
   ]
  },
  {
   "cell_type": "code",
   "execution_count": 3,
   "metadata": {},
   "outputs": [
    {
     "name": "stdout",
     "output_type": "stream",
     "text": [
      "The mean value of the data is 18.11111111111111\n"
     ]
    }
   ],
   "source": [
    "#mean\n",
    "mean_value = np.mean(data)\n",
    "print(\"The mean value of the data is\",mean_value)"
   ]
  },
  {
   "cell_type": "code",
   "execution_count": 4,
   "metadata": {},
   "outputs": [
    {
     "name": "stdout",
     "output_type": "stream",
     "text": [
      "The median value of the data is 18.0\n"
     ]
    }
   ],
   "source": [
    "#median\n",
    "median_value = np.median(data)\n",
    "print(\"The median value of the data is\",median_value)"
   ]
  },
  {
   "cell_type": "code",
   "execution_count": 6,
   "metadata": {},
   "outputs": [
    {
     "name": "stdout",
     "output_type": "stream",
     "text": [
      "The variance value of the data is 69.20987654320987\n"
     ]
    }
   ],
   "source": [
    "#variance\n",
    "variance_value = np.var(data ddof=1)\n",
    "print(\"The variance value of the data is\",variance_value)"
   ]
  },
  {
   "cell_type": "code",
   "execution_count": 16,
   "metadata": {},
   "outputs": [
    {
     "name": "stdout",
     "output_type": "stream",
     "text": [
      "Mode: [5, 8, 12, 15, 18, 22, 25, 28, 30]\n",
      "The range value of the data is 25\n",
      "The standard deviation value of the data is 8.823894327966032\n",
      "Q1: 12.0, Q3: 25.0, IQR: 13.0\n"
     ]
    }
   ],
   "source": [
    "#mode\n",
    "mode_value = pd.Series(data).mode()\n",
    "print(f\"Mode: {mode_value.tolist() if not mode_value.empty else 'No Mode'}\")\n",
    "\n",
    "#range\n",
    "range_value = np.max(data) - np.min(data)\n",
    "print(\"The range value of the data is\",range_value)\n",
    "\n",
    "#standard deviation\n",
    "\n",
    "std_deviation_value = np.std(data, ddof=1)\n",
    "print(\"The standard deviation value of the data is\",std_deviation_value)\n",
    "\n",
    "#Interquartile range (IQR)\n",
    "q1 = np.percentile(data, 25)\n",
    "q3 = np.percentile(data, 75)\n",
    "iqr = q3 - q1\n",
    "print(f\"Q1: {q1}, Q3: {q3}, IQR: {iqr}\")\n"
   ]
  }
 ],
 "metadata": {
  "kernelspec": {
   "display_name": "Python 3",
   "language": "python",
   "name": "python3"
  },
  "language_info": {
   "codemirror_mode": {
    "name": "ipython",
    "version": 3
   },
   "file_extension": ".py",
   "mimetype": "text/x-python",
   "name": "python",
   "nbconvert_exporter": "python",
   "pygments_lexer": "ipython3",
   "version": "3.12.5"
  }
 },
 "nbformat": 4,
 "nbformat_minor": 2
}
