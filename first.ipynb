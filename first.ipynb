{
 "cells": [
  {
   "cell_type": "markdown",
   "metadata": {},
   "source": [
    "# BACHELOR OF SCIENCE IN INFORMATION TECHNOLOGY\n",
    "\n",
    "## PROBABILITY AND STATISTICS\n",
    "\n",
    "### STATISTICS\n",
    "\n",
    "This course introduces students to the mathematical principles of probability and statistics,<br /> covering topics such as data collection, data \n",
    "analysis, probability distributions, hypothesis testing, and regression analysis.\n",
    "\n",
    "\n",
    "\n",
    "- This is an additional practical lesson on Probability and `Statistics`, ``0.12345``\n",
    " - An extra practices and information to help with the course"
   ]
  },
  {
   "cell_type": "code",
   "execution_count": 1,
   "metadata": {},
   "outputs": [
    {
     "name": "stdout",
     "output_type": "stream",
     "text": [
      "Hello, World\n"
     ]
    }
   ],
   "source": [
    "print('Hello, World')"
   ]
  },
  {
   "cell_type": "markdown",
   "metadata": {},
   "source": [
    "# NANGOLI SAMUEL\n",
    "# M24B13/039\n",
    "# B28338"
   ]
  }
 ],
 "metadata": {
  "kernelspec": {
   "display_name": "Python 3",
   "language": "python",
   "name": "python3"
  },
  "language_info": {
   "codemirror_mode": {
    "name": "ipython",
    "version": 3
   },
   "file_extension": ".py",
   "mimetype": "text/x-python",
   "name": "python",
   "nbconvert_exporter": "python",
   "pygments_lexer": "ipython3",
   "version": "3.12.5"
  }
 },
 "nbformat": 4,
 "nbformat_minor": 2
}
