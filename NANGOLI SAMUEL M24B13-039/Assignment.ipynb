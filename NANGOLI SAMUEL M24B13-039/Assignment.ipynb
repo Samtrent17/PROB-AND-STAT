{
 "cells": [
  {
   "cell_type": "markdown",
   "metadata": {},
   "source": [
    "# NANGOLI SAMUEL\n",
    "## BACHELOR OF SCIENCE IN INFORMATION AND TECHNOLOGY\n",
    "### M24B13/039\n",
    "### B28338\n"
   ]
  },
  {
   "cell_type": "code",
   "execution_count": 15,
   "metadata": {},
   "outputs": [
    {
     "name": "stdout",
     "output_type": "stream",
     "text": [
      "Note: you may need to restart the kernel to use updated packages.Defaulting to user installation because normal site-packages is not writeable\n",
      "Collecting data\n",
      "  Using cached data-0.4.tar.gz (7.0 kB)\n",
      "  Preparing metadata (setup.py): started\n",
      "  Preparing metadata (setup.py): finished with status 'done'\n",
      "Collecting scrubber\n",
      "  Using cached scrubber-1.6.1.tar.gz (8.9 kB)\n",
      "  Preparing metadata (setup.py): started\n",
      "  Preparing metadata (setup.py): finished with status 'error'\n",
      "\n"
     ]
    },
    {
     "name": "stderr",
     "output_type": "stream",
     "text": [
      "  error: subprocess-exited-with-error\n",
      "  \n",
      "  × python setup.py egg_info did not run successfully.\n",
      "  │ exit code: 1\n",
      "  ╰─> [6 lines of output]\n",
      "      Traceback (most recent call last):\n",
      "        File \"<string>\", line 2, in <module>\n",
      "        File \"<pip-setuptools-caller>\", line 34, in <module>\n",
      "        File \"C:\\Users\\HP\\AppData\\Local\\Temp\\pip-install-vthz_jqj\\scrubber_57158fdb7fe34c048b0a8baa5ff3e378\\setup.py\", line 7, in <module>\n",
      "          import imp\n",
      "      ModuleNotFoundError: No module named 'imp'\n",
      "      [end of output]\n",
      "  \n",
      "  note: This error originates from a subprocess, and is likely not a problem with pip.\n",
      "error: metadata-generation-failed\n",
      "\n",
      "× Encountered error while generating package metadata.\n",
      "╰─> See above for output.\n",
      "\n",
      "note: This is an issue with the package mentioned above, not pip.\n",
      "hint: See above for details.\n"
     ]
    }
   ],
   "source": [
    "%pip install data scrubber "
   ]
  },
  {
   "cell_type": "code",
   "execution_count": 1,
   "metadata": {},
   "outputs": [],
   "source": [
    "#importation of necessary libraries\n",
    "import pandas as pd\n",
    "import seaborn as sns\n",
    "import matplotlib as mtp"
   ]
  },
  {
   "cell_type": "markdown",
   "metadata": {},
   "source": [
    "- It is believed that variables \"BMI\" and \"AgeCategory\" are key indicators of \"KidneyDisease\". Is this true? [9 MARKS]\n",
    "\n",
    "- Explain the distribution of probability of any continuous variable [5 MARKS]\n",
    "\n",
    "- What is the probability that a person who smokes has SkinCancer? [5 MARKS] \n",
    " \n",
    "- Explain the relationship between any two continuous variables? [5 MARKS]\n",
    "\n",
    "- Based on the variable “HeartDisease”, which \"GenHealth\" status  would you advise patients to maintain? [6 MARKS]"
   ]
  },
  {
   "cell_type": "code",
   "execution_count": 2,
   "metadata": {},
   "outputs": [
    {
     "data": {
      "text/html": [
       "<div>\n",
       "<style scoped>\n",
       "    .dataframe tbody tr th:only-of-type {\n",
       "        vertical-align: middle;\n",
       "    }\n",
       "\n",
       "    .dataframe tbody tr th {\n",
       "        vertical-align: top;\n",
       "    }\n",
       "\n",
       "    .dataframe thead th {\n",
       "        text-align: right;\n",
       "    }\n",
       "</style>\n",
       "<table border=\"1\" class=\"dataframe\">\n",
       "  <thead>\n",
       "    <tr style=\"text-align: right;\">\n",
       "      <th></th>\n",
       "      <th>HeartDisease</th>\n",
       "      <th>BMI</th>\n",
       "      <th>Smoking</th>\n",
       "      <th>AlcoholDrinking</th>\n",
       "      <th>Stroke</th>\n",
       "      <th>PhysicalHealth</th>\n",
       "      <th>MentalHealth</th>\n",
       "      <th>DiffWalking</th>\n",
       "      <th>Sex</th>\n",
       "      <th>AgeCategory</th>\n",
       "      <th>Race</th>\n",
       "      <th>Diabetic</th>\n",
       "      <th>PhysicalActivity</th>\n",
       "      <th>GenHealth</th>\n",
       "      <th>SleepTime</th>\n",
       "      <th>Asthma</th>\n",
       "      <th>KidneyDisease</th>\n",
       "      <th>SkinCancer</th>\n",
       "    </tr>\n",
       "  </thead>\n",
       "  <tbody>\n",
       "    <tr>\n",
       "      <th>0</th>\n",
       "      <td>No</td>\n",
       "      <td>16.60</td>\n",
       "      <td>Yes</td>\n",
       "      <td>No</td>\n",
       "      <td>No</td>\n",
       "      <td>3.0</td>\n",
       "      <td>30.0</td>\n",
       "      <td>No</td>\n",
       "      <td>Female</td>\n",
       "      <td>55-59</td>\n",
       "      <td>White</td>\n",
       "      <td>Yes</td>\n",
       "      <td>Yes</td>\n",
       "      <td>Very good</td>\n",
       "      <td>5.0</td>\n",
       "      <td>Yes</td>\n",
       "      <td>No</td>\n",
       "      <td>Yes</td>\n",
       "    </tr>\n",
       "    <tr>\n",
       "      <th>1</th>\n",
       "      <td>No</td>\n",
       "      <td>20.34</td>\n",
       "      <td>No</td>\n",
       "      <td>No</td>\n",
       "      <td>Yes</td>\n",
       "      <td>0.0</td>\n",
       "      <td>0.0</td>\n",
       "      <td>No</td>\n",
       "      <td>Female</td>\n",
       "      <td>80 or older</td>\n",
       "      <td>White</td>\n",
       "      <td>No</td>\n",
       "      <td>Yes</td>\n",
       "      <td>Very good</td>\n",
       "      <td>7.0</td>\n",
       "      <td>No</td>\n",
       "      <td>No</td>\n",
       "      <td>No</td>\n",
       "    </tr>\n",
       "    <tr>\n",
       "      <th>2</th>\n",
       "      <td>No</td>\n",
       "      <td>26.58</td>\n",
       "      <td>Yes</td>\n",
       "      <td>No</td>\n",
       "      <td>No</td>\n",
       "      <td>20.0</td>\n",
       "      <td>30.0</td>\n",
       "      <td>No</td>\n",
       "      <td>Male</td>\n",
       "      <td>65-69</td>\n",
       "      <td>White</td>\n",
       "      <td>Yes</td>\n",
       "      <td>Yes</td>\n",
       "      <td>Fair</td>\n",
       "      <td>8.0</td>\n",
       "      <td>Yes</td>\n",
       "      <td>No</td>\n",
       "      <td>No</td>\n",
       "    </tr>\n",
       "    <tr>\n",
       "      <th>3</th>\n",
       "      <td>No</td>\n",
       "      <td>24.21</td>\n",
       "      <td>No</td>\n",
       "      <td>No</td>\n",
       "      <td>No</td>\n",
       "      <td>0.0</td>\n",
       "      <td>0.0</td>\n",
       "      <td>No</td>\n",
       "      <td>Female</td>\n",
       "      <td>75-79</td>\n",
       "      <td>White</td>\n",
       "      <td>No</td>\n",
       "      <td>No</td>\n",
       "      <td>Good</td>\n",
       "      <td>6.0</td>\n",
       "      <td>No</td>\n",
       "      <td>No</td>\n",
       "      <td>Yes</td>\n",
       "    </tr>\n",
       "    <tr>\n",
       "      <th>4</th>\n",
       "      <td>No</td>\n",
       "      <td>23.71</td>\n",
       "      <td>No</td>\n",
       "      <td>No</td>\n",
       "      <td>No</td>\n",
       "      <td>28.0</td>\n",
       "      <td>0.0</td>\n",
       "      <td>Yes</td>\n",
       "      <td>Female</td>\n",
       "      <td>40-44</td>\n",
       "      <td>White</td>\n",
       "      <td>No</td>\n",
       "      <td>Yes</td>\n",
       "      <td>Very good</td>\n",
       "      <td>8.0</td>\n",
       "      <td>No</td>\n",
       "      <td>No</td>\n",
       "      <td>No</td>\n",
       "    </tr>\n",
       "    <tr>\n",
       "      <th>...</th>\n",
       "      <td>...</td>\n",
       "      <td>...</td>\n",
       "      <td>...</td>\n",
       "      <td>...</td>\n",
       "      <td>...</td>\n",
       "      <td>...</td>\n",
       "      <td>...</td>\n",
       "      <td>...</td>\n",
       "      <td>...</td>\n",
       "      <td>...</td>\n",
       "      <td>...</td>\n",
       "      <td>...</td>\n",
       "      <td>...</td>\n",
       "      <td>...</td>\n",
       "      <td>...</td>\n",
       "      <td>...</td>\n",
       "      <td>...</td>\n",
       "      <td>...</td>\n",
       "    </tr>\n",
       "    <tr>\n",
       "      <th>319790</th>\n",
       "      <td>Yes</td>\n",
       "      <td>27.41</td>\n",
       "      <td>Yes</td>\n",
       "      <td>No</td>\n",
       "      <td>No</td>\n",
       "      <td>7.0</td>\n",
       "      <td>0.0</td>\n",
       "      <td>Yes</td>\n",
       "      <td>Male</td>\n",
       "      <td>60-64</td>\n",
       "      <td>Hispanic</td>\n",
       "      <td>Yes</td>\n",
       "      <td>No</td>\n",
       "      <td>Fair</td>\n",
       "      <td>6.0</td>\n",
       "      <td>Yes</td>\n",
       "      <td>No</td>\n",
       "      <td>No</td>\n",
       "    </tr>\n",
       "    <tr>\n",
       "      <th>319791</th>\n",
       "      <td>No</td>\n",
       "      <td>29.84</td>\n",
       "      <td>Yes</td>\n",
       "      <td>No</td>\n",
       "      <td>No</td>\n",
       "      <td>0.0</td>\n",
       "      <td>0.0</td>\n",
       "      <td>No</td>\n",
       "      <td>Male</td>\n",
       "      <td>35-39</td>\n",
       "      <td>Hispanic</td>\n",
       "      <td>No</td>\n",
       "      <td>Yes</td>\n",
       "      <td>Very good</td>\n",
       "      <td>5.0</td>\n",
       "      <td>Yes</td>\n",
       "      <td>No</td>\n",
       "      <td>No</td>\n",
       "    </tr>\n",
       "    <tr>\n",
       "      <th>319792</th>\n",
       "      <td>No</td>\n",
       "      <td>24.24</td>\n",
       "      <td>No</td>\n",
       "      <td>No</td>\n",
       "      <td>No</td>\n",
       "      <td>0.0</td>\n",
       "      <td>0.0</td>\n",
       "      <td>No</td>\n",
       "      <td>Female</td>\n",
       "      <td>45-49</td>\n",
       "      <td>Hispanic</td>\n",
       "      <td>No</td>\n",
       "      <td>Yes</td>\n",
       "      <td>Good</td>\n",
       "      <td>6.0</td>\n",
       "      <td>No</td>\n",
       "      <td>No</td>\n",
       "      <td>No</td>\n",
       "    </tr>\n",
       "    <tr>\n",
       "      <th>319793</th>\n",
       "      <td>No</td>\n",
       "      <td>32.81</td>\n",
       "      <td>No</td>\n",
       "      <td>No</td>\n",
       "      <td>No</td>\n",
       "      <td>0.0</td>\n",
       "      <td>0.0</td>\n",
       "      <td>No</td>\n",
       "      <td>Female</td>\n",
       "      <td>25-29</td>\n",
       "      <td>Hispanic</td>\n",
       "      <td>No</td>\n",
       "      <td>No</td>\n",
       "      <td>Good</td>\n",
       "      <td>12.0</td>\n",
       "      <td>No</td>\n",
       "      <td>No</td>\n",
       "      <td>No</td>\n",
       "    </tr>\n",
       "    <tr>\n",
       "      <th>319794</th>\n",
       "      <td>No</td>\n",
       "      <td>46.56</td>\n",
       "      <td>No</td>\n",
       "      <td>No</td>\n",
       "      <td>No</td>\n",
       "      <td>0.0</td>\n",
       "      <td>0.0</td>\n",
       "      <td>No</td>\n",
       "      <td>Female</td>\n",
       "      <td>80 or older</td>\n",
       "      <td>Hispanic</td>\n",
       "      <td>No</td>\n",
       "      <td>Yes</td>\n",
       "      <td>Good</td>\n",
       "      <td>8.0</td>\n",
       "      <td>No</td>\n",
       "      <td>No</td>\n",
       "      <td>No</td>\n",
       "    </tr>\n",
       "  </tbody>\n",
       "</table>\n",
       "<p>319795 rows × 18 columns</p>\n",
       "</div>"
      ],
      "text/plain": [
       "       HeartDisease    BMI Smoking AlcoholDrinking Stroke  PhysicalHealth  \\\n",
       "0                No  16.60     Yes              No     No             3.0   \n",
       "1                No  20.34      No              No    Yes             0.0   \n",
       "2                No  26.58     Yes              No     No            20.0   \n",
       "3                No  24.21      No              No     No             0.0   \n",
       "4                No  23.71      No              No     No            28.0   \n",
       "...             ...    ...     ...             ...    ...             ...   \n",
       "319790          Yes  27.41     Yes              No     No             7.0   \n",
       "319791           No  29.84     Yes              No     No             0.0   \n",
       "319792           No  24.24      No              No     No             0.0   \n",
       "319793           No  32.81      No              No     No             0.0   \n",
       "319794           No  46.56      No              No     No             0.0   \n",
       "\n",
       "        MentalHealth DiffWalking     Sex  AgeCategory      Race Diabetic  \\\n",
       "0               30.0          No  Female        55-59     White      Yes   \n",
       "1                0.0          No  Female  80 or older     White       No   \n",
       "2               30.0          No    Male        65-69     White      Yes   \n",
       "3                0.0          No  Female        75-79     White       No   \n",
       "4                0.0         Yes  Female        40-44     White       No   \n",
       "...              ...         ...     ...          ...       ...      ...   \n",
       "319790           0.0         Yes    Male        60-64  Hispanic      Yes   \n",
       "319791           0.0          No    Male        35-39  Hispanic       No   \n",
       "319792           0.0          No  Female        45-49  Hispanic       No   \n",
       "319793           0.0          No  Female        25-29  Hispanic       No   \n",
       "319794           0.0          No  Female  80 or older  Hispanic       No   \n",
       "\n",
       "       PhysicalActivity  GenHealth  SleepTime Asthma KidneyDisease SkinCancer  \n",
       "0                   Yes  Very good        5.0    Yes            No        Yes  \n",
       "1                   Yes  Very good        7.0     No            No         No  \n",
       "2                   Yes       Fair        8.0    Yes            No         No  \n",
       "3                    No       Good        6.0     No            No        Yes  \n",
       "4                   Yes  Very good        8.0     No            No         No  \n",
       "...                 ...        ...        ...    ...           ...        ...  \n",
       "319790               No       Fair        6.0    Yes            No         No  \n",
       "319791              Yes  Very good        5.0    Yes            No         No  \n",
       "319792              Yes       Good        6.0     No            No         No  \n",
       "319793               No       Good       12.0     No            No         No  \n",
       "319794              Yes       Good        8.0     No            No         No  \n",
       "\n",
       "[319795 rows x 18 columns]"
      ]
     },
     "execution_count": 2,
     "metadata": {},
     "output_type": "execute_result"
    }
   ],
   "source": [
    "kidneydisease = pd.read_csv(\"Assignment 4_Remedial.csv\")\n",
    "kidneydisease"
   ]
  },
  {
   "cell_type": "code",
   "execution_count": 3,
   "metadata": {},
   "outputs": [
    {
     "data": {
      "text/html": [
       "<div>\n",
       "<style scoped>\n",
       "    .dataframe tbody tr th:only-of-type {\n",
       "        vertical-align: middle;\n",
       "    }\n",
       "\n",
       "    .dataframe tbody tr th {\n",
       "        vertical-align: top;\n",
       "    }\n",
       "\n",
       "    .dataframe thead th {\n",
       "        text-align: right;\n",
       "    }\n",
       "</style>\n",
       "<table border=\"1\" class=\"dataframe\">\n",
       "  <thead>\n",
       "    <tr style=\"text-align: right;\">\n",
       "      <th></th>\n",
       "      <th>BMI</th>\n",
       "      <th>PhysicalHealth</th>\n",
       "      <th>MentalHealth</th>\n",
       "      <th>SleepTime</th>\n",
       "    </tr>\n",
       "  </thead>\n",
       "  <tbody>\n",
       "    <tr>\n",
       "      <th>count</th>\n",
       "      <td>319795.000000</td>\n",
       "      <td>319795.00000</td>\n",
       "      <td>319795.000000</td>\n",
       "      <td>319795.000000</td>\n",
       "    </tr>\n",
       "    <tr>\n",
       "      <th>mean</th>\n",
       "      <td>28.325399</td>\n",
       "      <td>3.37171</td>\n",
       "      <td>3.898366</td>\n",
       "      <td>7.097075</td>\n",
       "    </tr>\n",
       "    <tr>\n",
       "      <th>std</th>\n",
       "      <td>6.356100</td>\n",
       "      <td>7.95085</td>\n",
       "      <td>7.955235</td>\n",
       "      <td>1.436007</td>\n",
       "    </tr>\n",
       "    <tr>\n",
       "      <th>min</th>\n",
       "      <td>12.020000</td>\n",
       "      <td>0.00000</td>\n",
       "      <td>0.000000</td>\n",
       "      <td>1.000000</td>\n",
       "    </tr>\n",
       "    <tr>\n",
       "      <th>25%</th>\n",
       "      <td>24.030000</td>\n",
       "      <td>0.00000</td>\n",
       "      <td>0.000000</td>\n",
       "      <td>6.000000</td>\n",
       "    </tr>\n",
       "    <tr>\n",
       "      <th>50%</th>\n",
       "      <td>27.340000</td>\n",
       "      <td>0.00000</td>\n",
       "      <td>0.000000</td>\n",
       "      <td>7.000000</td>\n",
       "    </tr>\n",
       "    <tr>\n",
       "      <th>75%</th>\n",
       "      <td>31.420000</td>\n",
       "      <td>2.00000</td>\n",
       "      <td>3.000000</td>\n",
       "      <td>8.000000</td>\n",
       "    </tr>\n",
       "    <tr>\n",
       "      <th>max</th>\n",
       "      <td>94.850000</td>\n",
       "      <td>30.00000</td>\n",
       "      <td>30.000000</td>\n",
       "      <td>24.000000</td>\n",
       "    </tr>\n",
       "  </tbody>\n",
       "</table>\n",
       "</div>"
      ],
      "text/plain": [
       "                 BMI  PhysicalHealth   MentalHealth      SleepTime\n",
       "count  319795.000000    319795.00000  319795.000000  319795.000000\n",
       "mean       28.325399         3.37171       3.898366       7.097075\n",
       "std         6.356100         7.95085       7.955235       1.436007\n",
       "min        12.020000         0.00000       0.000000       1.000000\n",
       "25%        24.030000         0.00000       0.000000       6.000000\n",
       "50%        27.340000         0.00000       0.000000       7.000000\n",
       "75%        31.420000         2.00000       3.000000       8.000000\n",
       "max        94.850000        30.00000      30.000000      24.000000"
      ]
     },
     "execution_count": 3,
     "metadata": {},
     "output_type": "execute_result"
    }
   ],
   "source": [
    "# finding out with BMI and age category are key indictors of kidney disease\n",
    "#Describe the data of the kidney disease\n",
    "kidneydisease.describe()"
   ]
  },
  {
   "cell_type": "code",
   "execution_count": 4,
   "metadata": {},
   "outputs": [
    {
     "name": "stdout",
     "output_type": "stream",
     "text": [
      "<class 'pandas.core.frame.DataFrame'>\n",
      "RangeIndex: 319795 entries, 0 to 319794\n",
      "Data columns (total 18 columns):\n",
      " #   Column            Non-Null Count   Dtype  \n",
      "---  ------            --------------   -----  \n",
      " 0   HeartDisease      319795 non-null  object \n",
      " 1   BMI               319795 non-null  float64\n",
      " 2   Smoking           319795 non-null  object \n",
      " 3   AlcoholDrinking   319795 non-null  object \n",
      " 4   Stroke            319795 non-null  object \n",
      " 5   PhysicalHealth    319795 non-null  float64\n",
      " 6   MentalHealth      319795 non-null  float64\n",
      " 7   DiffWalking       319795 non-null  object \n",
      " 8   Sex               319795 non-null  object \n",
      " 9   AgeCategory       319795 non-null  object \n",
      " 10  Race              319795 non-null  object \n",
      " 11  Diabetic          319795 non-null  object \n",
      " 12  PhysicalActivity  319795 non-null  object \n",
      " 13  GenHealth         319795 non-null  object \n",
      " 14  SleepTime         319795 non-null  float64\n",
      " 15  Asthma            319795 non-null  object \n",
      " 16  KidneyDisease     319795 non-null  object \n",
      " 17  SkinCancer        319795 non-null  object \n",
      "dtypes: float64(4), object(14)\n",
      "memory usage: 43.9+ MB\n"
     ]
    }
   ],
   "source": [
    "#lists the information about the data\n",
    "kidneydisease.info()"
   ]
  },
  {
   "cell_type": "code",
   "execution_count": 5,
   "metadata": {},
   "outputs": [],
   "source": [
    "#variables for the BMI, Kidney disease and age category \n",
    "\n",
    "kd = kidneydisease['HeartDisease']\n",
    "BMI = kidneydisease[\"BMI\"]\n",
    "ac = kidneydisease[\"AgeCategory\"]"
   ]
  },
  {
   "cell_type": "markdown",
   "metadata": {},
   "source": [
    "Plotting of the graph to show the average number of BMI of people with the kidney disease and those without the kidney disease"
   ]
  },
  {
   "cell_type": "code",
   "execution_count": 6,
   "metadata": {},
   "outputs": [
    {
     "data": {
      "text/plain": [
       "<Axes: xlabel='AgeCategory', ylabel='BMI'>"
      ]
     },
     "execution_count": 6,
     "metadata": {},
     "output_type": "execute_result"
    },
    {
     "data": {
      "image/png": "[encoded data removed]",
      "text/plain": [
       "<Figure size 800x600 with 1 Axes>"
      ]
     },
     "metadata": {},
     "output_type": "display_data"
    }
   ],
   "source": [
    "#A dotted graph for the average number of BMI of people with the kidney disease and those without the kidney disease\n",
    "import matplotlib.pyplot as plt\n",
    "plt.figure(figsize =(8,6))\n",
    "sns.barplot(y = \"BMI\", x = \"AgeCategory\", hue = \"KidneyDisease\", data = kidneydisease)\n"
   ]
  },
  {
   "cell_type": "markdown",
   "metadata": {},
   "source": [
    "Basing on the graph above, this shows that the age category of people with BMI with no kidney disease is relatively low ranging from 25 to 30 compared to the age category of people with BMI with a kidney disease is high ranging in 25 to 35 with a difference of 5 in the two categories."
   ]
  },
  {
   "cell_type": "markdown",
   "metadata": {},
   "source": [
    "# 2.The distribution of probability of any continuous variable"
   ]
  },
  {
   "cell_type": "code",
   "execution_count": 7,
   "metadata": {},
   "outputs": [
    {
     "data": {
      "text/plain": [
       "0          3.0\n",
       "1          0.0\n",
       "2         20.0\n",
       "3          0.0\n",
       "4         28.0\n",
       "          ... \n",
       "319790     7.0\n",
       "319791     0.0\n",
       "319792     0.0\n",
       "319793     0.0\n",
       "319794     0.0\n",
       "Name: PhysicalHealth, Length: 319795, dtype: float64"
      ]
     },
     "execution_count": 7,
     "metadata": {},
     "output_type": "execute_result"
    }
   ],
   "source": [
    "data_nb = kidneydisease['PhysicalHealth']\n",
    "data_nb "
   ]
  },
  {
   "cell_type": "code",
   "execution_count": 8,
   "metadata": {},
   "outputs": [
    {
     "data": {
      "text/plain": [
       "<Axes: xlabel='PhysicalHealth', ylabel='Count'>"
      ]
     },
     "execution_count": 8,
     "metadata": {},
     "output_type": "execute_result"
    },
    {
     "data": {
      "image/png": "[encoded data removed]",
      "text/plain": [
       "<Figure size 640x480 with 1 Axes>"
      ]
     },
     "metadata": {},
     "output_type": "display_data"
    }
   ],
   "source": [
    "#this histogram for PhysicalHealth of the people\n",
    "import seaborn as sns \n",
    "sns.histplot(data_nb)"
   ]
  },
  {
   "cell_type": "code",
   "execution_count": 9,
   "metadata": {},
   "outputs": [
    {
     "data": {
      "text/plain": [
       "BMI          No                       28.262296\n",
       "             Yes                      29.975492\n",
       "             (No, 65-69)                    NaN\n",
       "             (No, 60-64)                    NaN\n",
       "             (No, 70-74)                    NaN\n",
       "             (No, 55-59)                    NaN\n",
       "             (No, 50-54)                    NaN\n",
       "             (No, 80 or older)              NaN\n",
       "             (No, 45-49)                    NaN\n",
       "             (No, 18-24)                    NaN\n",
       "             (No, 40-44)                    NaN\n",
       "             (No, 35-39)                    NaN\n",
       "             (No, 75-79)                    NaN\n",
       "             (No, 30-34)                    NaN\n",
       "             (No, 25-29)                    NaN\n",
       "             (Yes, 70-74)                   NaN\n",
       "             (Yes, 80 or older)             NaN\n",
       "             (Yes, 65-69)                   NaN\n",
       "             (Yes, 75-79)                   NaN\n",
       "             (Yes, 60-64)                   NaN\n",
       "             (Yes, 55-59)                   NaN\n",
       "             (Yes, 50-54)                   NaN\n",
       "             (Yes, 45-49)                   NaN\n",
       "             (Yes, 40-44)                   NaN\n",
       "             (Yes, 35-39)                   NaN\n",
       "             (Yes, 30-34)                   NaN\n",
       "             (Yes, 18-24)                   NaN\n",
       "             (Yes, 25-29)                   NaN\n",
       "AgeCategory  No                             NaN\n",
       "             Yes                            NaN\n",
       "             (No, 65-69)           32462.000000\n",
       "             (No, 60-64)           32314.000000\n",
       "             (No, 70-74)           29095.000000\n",
       "             (No, 55-59)           28759.000000\n",
       "             (No, 50-54)           24682.000000\n",
       "             (No, 80 or older)     22186.000000\n",
       "             (No, 45-49)           21340.000000\n",
       "             (No, 18-24)           20932.000000\n",
       "             (No, 40-44)           20640.000000\n",
       "             (No, 35-39)           20294.000000\n",
       "             (No, 75-79)           19883.000000\n",
       "             (No, 30-34)           18589.000000\n",
       "             (No, 25-29)           16840.000000\n",
       "             (Yes, 70-74)           1970.000000\n",
       "             (Yes, 80 or older)     1967.000000\n",
       "             (Yes, 65-69)           1689.000000\n",
       "             (Yes, 75-79)           1599.000000\n",
       "             (Yes, 60-64)           1372.000000\n",
       "             (Yes, 55-59)            998.000000\n",
       "             (Yes, 50-54)            700.000000\n",
       "             (Yes, 45-49)            451.000000\n",
       "             (Yes, 40-44)            366.000000\n",
       "             (Yes, 35-39)            256.000000\n",
       "             (Yes, 30-34)            164.000000\n",
       "             (Yes, 18-24)            132.000000\n",
       "             (Yes, 25-29)            115.000000\n",
       "dtype: float64"
      ]
     },
     "execution_count": 9,
     "metadata": {},
     "output_type": "execute_result"
    }
   ],
   "source": [
    "# This explains  the distribution btwn any continous variables thus the use of  KidneyDisease in relation to BMI and AgeCategory\n",
    "# Here we shall  group by KidneyDisease and see the mean BMI and AgeCategory frequencies\n",
    "kidney_bmi_age_summary = kidneydisease.groupby('KidneyDisease').agg({\n",
    "    'BMI': 'mean',\n",
    "    'AgeCategory': 'value_counts'\n",
    "}).unstack()\n",
    "\n",
    "# here we are Displaying the summary of BMI and AgeCategory in relation to KidneyDisease\n",
    "kidney_bmi_age_summary\n"
   ]
  },
  {
   "cell_type": "code",
   "execution_count": 10,
   "metadata": {},
   "outputs": [
    {
     "name": "stdout",
     "output_type": "stream",
     "text": [
      "The probability of a person who smokes having SkinCancer is : 0.10503532765260636\n"
     ]
    }
   ],
   "source": [
    "# Number of people who smoke and have SkinCancer\n",
    "smokers_with_cancer = len(kidneydisease[(kidneydisease['Smoking'] == 'Yes') & (kidneydisease['SkinCancer'] == 'Yes')])\n",
    "\n",
    "# Total number of smokers in the gien dataset.\n",
    "total_smokers = len(kidneydisease[kidneydisease['Smoking'] == 'Yes']) \n",
    "\n",
    "probability_smoker_skin_cancer = smokers_with_cancer / total_smokers# formula to show the probability of smoker with cancer\n",
    "print('The probability of a person who smokes having SkinCancer is :',probability_smoker_skin_cancer) #Print statement of a person who smokes having SkinCancer"
   ]
  },
  {
   "cell_type": "markdown",
   "metadata": {},
   "source": [
    "# 4. The relationship between any two continuous variables"
   ]
  },
  {
   "cell_type": "code",
   "execution_count": 11,
   "metadata": {},
   "outputs": [
    {
     "data": {
      "text/plain": [
       "Text(0.5, 1.0, 'Relationship  between PhysicalHealth and BMI ')"
      ]
     },
     "execution_count": 11,
     "metadata": {},
     "output_type": "execute_result"
    },
    {
     "data": {
      "image/png": "[encoded data removed]",
      "text/plain": [
       "<Figure size 1200x600 with 1 Axes>"
      ]
     },
     "metadata": {},
     "output_type": "display_data"
    }
   ],
   "source": [
    "ph = kidneydisease['PhysicalHealth']\n",
    "mh = kidneydisease['BMI']\n",
    "\n",
    "plt.figure(figsize=(12,6))\n",
    "sns.lineplot(x = ph, y = mh)\n",
    "plt.title('Relationship  between PhysicalHealth and BMI ')"
   ]
  },
  {
   "cell_type": "markdown",
   "metadata": {},
   "source": [
    "The graph shows the relationship between PhysicalHealth and BMI. The x-axis represents PhysicalHealth, and the y-axis represents BMI. The blue line represents the average BMI for each value of PhysicalHealth. The shaded area around the line represents the standard deviation of BMI for each value of PhysicalHealth.\n",
    "\n",
    "From the graph, we can see that there is a general trend of increasing BMI with increasing PhysicalHealth. However, there is also a lot of variation in BMI for each value of PhysicalHealth, as indicated by the shaded area. This suggests that other factors besides PhysicalHealth may also influence BMI.\n",
    "\n",
    "Overall, the graph shows a complex relationship between PhysicalHealth and BMI, and more data and analysis would be needed to fully understand the relationship between these two variables."
   ]
  },
  {
   "cell_type": "code",
   "execution_count": 12,
   "metadata": {},
   "outputs": [
    {
     "data": {
      "text/html": [
       "<div>\n",
       "<style scoped>\n",
       "    .dataframe tbody tr th:only-of-type {\n",
       "        vertical-align: middle;\n",
       "    }\n",
       "\n",
       "    .dataframe tbody tr th {\n",
       "        vertical-align: top;\n",
       "    }\n",
       "\n",
       "    .dataframe thead th {\n",
       "        text-align: right;\n",
       "    }\n",
       "</style>\n",
       "<table border=\"1\" class=\"dataframe\">\n",
       "  <thead>\n",
       "    <tr style=\"text-align: right;\">\n",
       "      <th>HeartDisease</th>\n",
       "      <th>No</th>\n",
       "      <th>Yes</th>\n",
       "    </tr>\n",
       "    <tr>\n",
       "      <th>GenHealth</th>\n",
       "      <th></th>\n",
       "      <th></th>\n",
       "    </tr>\n",
       "  </thead>\n",
       "  <tbody>\n",
       "    <tr>\n",
       "      <th>Excellent</th>\n",
       "      <td>0.977559</td>\n",
       "      <td>0.022441</td>\n",
       "    </tr>\n",
       "    <tr>\n",
       "      <th>Fair</th>\n",
       "      <td>0.795715</td>\n",
       "      <td>0.204285</td>\n",
       "    </tr>\n",
       "    <tr>\n",
       "      <th>Good</th>\n",
       "      <td>0.897368</td>\n",
       "      <td>0.102632</td>\n",
       "    </tr>\n",
       "    <tr>\n",
       "      <th>Poor</th>\n",
       "      <td>0.658960</td>\n",
       "      <td>0.341040</td>\n",
       "    </tr>\n",
       "    <tr>\n",
       "      <th>Very good</th>\n",
       "      <td>0.952739</td>\n",
       "      <td>0.047261</td>\n",
       "    </tr>\n",
       "  </tbody>\n",
       "</table>\n",
       "</div>"
      ],
      "text/plain": [
       "HeartDisease        No       Yes\n",
       "GenHealth                       \n",
       "Excellent     0.977559  0.022441\n",
       "Fair          0.795715  0.204285\n",
       "Good          0.897368  0.102632\n",
       "Poor          0.658960  0.341040\n",
       "Very good     0.952739  0.047261"
      ]
     },
     "execution_count": 12,
     "metadata": {},
     "output_type": "execute_result"
    }
   ],
   "source": [
    "#analyze the distribution of HeartDisease across different GenHealth categories\n",
    "#use a crosstab to display the frequency and proportion of heart disease for each GenHealth category\n",
    "\n",
    "# Crosstab of HeartDisease and GenHealth\n",
    "genhealth_heartdisease_crosstab = pd.crosstab(kidneydisease['GenHealth'], kidneydisease['HeartDisease'], normalize='index')\n",
    "\n",
    "# Displaying the crosstab to observe the proportions\n",
    "genhealth_heartdisease_crosstab"
   ]
  }
 ],
 "metadata": {
  "kernelspec": {
   "display_name": "Python 3",
   "language": "python",
   "name": "python3"
  },
  "language_info": {
   "codemirror_mode": {
    "name": "ipython",
    "version": 3
   },
   "file_extension": ".py",
   "mimetype": "text/x-python",
   "name": "python",
   "nbconvert_exporter": "python",
   "pygments_lexer": "ipython3",
   "version": "3.12.5"
  }
 },
 "nbformat": 4,
 "nbformat_minor": 2
}
